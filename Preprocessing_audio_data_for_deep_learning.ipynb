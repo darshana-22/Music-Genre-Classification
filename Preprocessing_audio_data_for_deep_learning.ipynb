{
  "nbformat": 4,
  "nbformat_minor": 0,
  "metadata": {
    "colab": {
      "name": "Preprocessing audio data for deep learning.ipynb",
      "provenance": [],
      "authorship_tag": "ABX9TyPkHYmhrrEBR8N3BRIW6tfi",
      "include_colab_link": true
    },
    "kernelspec": {
      "name": "python3",
      "display_name": "Python 3"
    },
    "language_info": {
      "name": "python"
    }
  },
  "cells": [
    {
      "cell_type": "markdown",
      "metadata": {
        "id": "view-in-github",
        "colab_type": "text"
      },
      "source": [
        "<a href=\"https://colab.research.google.com/github/darshana-22/Music-Genre-Classification/blob/main/Preprocessing_audio_data_for_deep_learning.ipynb\" target=\"_parent\"><img src=\"https://colab.research.google.com/assets/colab-badge.svg\" alt=\"Open In Colab\"/></a>"
      ]
    },
    {
      "cell_type": "code",
      "metadata": {
        "id": "kgapfuHNu9Ll"
      },
      "source": [
        "import librosa, librosa.display\n",
        "import matplotlib.pyplot as plt\n",
        "import numpy as np"
      ],
      "execution_count": 9,
      "outputs": []
    },
    {
      "cell_type": "code",
      "metadata": {
        "id": "6fcG_JkzvbAM"
      },
      "source": [
        "file = \"Gotama - Blues Reflections.mp3\""
      ],
      "execution_count": 4,
      "outputs": []
    },
    {
      "cell_type": "code",
      "metadata": {
        "id": "aby2QBVqwsBa"
      },
      "source": [
        "signal, sr = librosa.load(file, sr = 22050) # signal is a one-D numpy array\n",
        "librosa.display.waveplot(signal, sr=sr)\n",
        "plt.xlabel(\"Time\")\n",
        "plt.ylabel(\"Amplitude\")\n",
        "plt.show()"
      ],
      "execution_count": null,
      "outputs": []
    },
    {
      "cell_type": "code",
      "metadata": {
        "id": "F3oKor95xfwz"
      },
      "source": [
        "fft = np.fft.fft(signal)\n",
        "\n",
        "magnitude = np.abs(fft)\n",
        "frequency = np.linspace(0, sr, len(magnitude))\n",
        "left_frequency = frequency[:int (len(frequency)/2)]\n",
        "left_magnitude = magnitude[:int (len(magnitude)/2)]\n",
        "plt.plot(left_frequency, left_magnitude)\n",
        "plt.xlabel(\"Frequency-->\")\n",
        "plt.ylabel(\"Magnitude-->\")\n",
        "plt.show()"
      ],
      "execution_count": null,
      "outputs": []
    },
    {
      "cell_type": "code",
      "metadata": {
        "id": "G7aB8ocRy4gN"
      },
      "source": [
        "#stft - spectrogram\n",
        "n_fft = 2048 #no. of samples\n",
        "hop_length = 512 #shifting\n",
        "stft = librosa.core.stft(signal, hop_length=hop_length, n_fft=n_fft)\n",
        "spectrogram = np.abs(stft)\n",
        "\n",
        "log_spectrogram = librosa.amplitude_to_db(spectrogram)\n",
        "librosa.display.specshow(log_spectrogram, sr= sr, hop_length=hop_length)\n",
        "plt.xlabel(\"Time\")\n",
        "plt.ylabel(\"Frequency\")\n",
        "plt.colorbar()\n",
        "plt.show()"
      ],
      "execution_count": null,
      "outputs": []
    },
    {
      "cell_type": "code",
      "metadata": {
        "id": "Av-hThdD0NxR"
      },
      "source": [
        "#MFCCs\n",
        "MFFCs = librosa.feature.mfcc(signal, n_fft= n_fft, hop_length=hop_length, n_mfcc=13)\n",
        "librosa.display.specshow(MFFCs, sr= sr, hop_length=hop_length)\n",
        "plt.xlabel(\"Time\")\n",
        "plt.ylabel(\"MFCCs\")\n",
        "plt.colorbar()\n",
        "plt.show()"
      ],
      "execution_count": null,
      "outputs": []
    }
  ]
}