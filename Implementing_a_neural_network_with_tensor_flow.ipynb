{
  "nbformat": 4,
  "nbformat_minor": 0,
  "metadata": {
    "colab": {
      "name": "Implementing a neural network with tensor flow.ipynb",
      "provenance": [],
      "collapsed_sections": [],
      "authorship_tag": "ABX9TyPBbGHU56BP4/FAqxaePL9o",
      "include_colab_link": true
    },
    "kernelspec": {
      "name": "python3",
      "display_name": "Python 3"
    },
    "language_info": {
      "name": "python"
    }
  },
  "cells": [
    {
      "cell_type": "markdown",
      "metadata": {
        "id": "view-in-github",
        "colab_type": "text"
      },
      "source": [
        "<a href=\"https://colab.research.google.com/github/darshana-22/Music-Genre-Classification/blob/main/Implementing_a_neural_network_with_tensor_flow.ipynb\" target=\"_parent\"><img src=\"https://colab.research.google.com/assets/colab-badge.svg\" alt=\"Open In Colab\"/></a>"
      ]
    },
    {
      "cell_type": "code",
      "metadata": {
        "id": "0xzzPX3-TEmW"
      },
      "source": [
        " import numpy as np\n",
        " from random import random\n",
        " from sklearn.model_selection import train_test_split\n",
        " import tensorflow as tf\n",
        " import tensorflow.keras as keras\n",
        " from tensorflow.keras.models import Sequential\n",
        " from tensorflow.keras.layers import InputLayer\n"
      ],
      "execution_count": null,
      "outputs": []
    },
    {
      "cell_type": "code",
      "metadata": {
        "id": "DjYcf4OSTaSG"
      },
      "source": [
        "def generate_dataset(num_samples, test_size):\n",
        "  x = np.array([[random()/2 for i in range(2)] for i in range(num_samples)])\n",
        "  y = np.array([[i[0] + i[1]] for i in x])\n",
        "  x_train, x_test, y_train, y_test = train_test_split(x, y, test_size=test_size)\n",
        "  return x_train, x_test, y_train, y_test\n"
      ],
      "execution_count": null,
      "outputs": []
    },
    {
      "cell_type": "code",
      "metadata": {
        "id": "HHHrBClfUnFK"
      },
      "source": [
        "x_train, x_test, y_train, y_test = generate_dataset(5000, 0.3)\n",
        "#print(\"X_TEST: \\n {}\".format(x_test))\n",
        "#print(\"Y_TEST: \\n {}\".format(y_test))\n"
      ],
      "execution_count": null,
      "outputs": []
    },
    {
      "cell_type": "code",
      "metadata": {
        "id": "WEsTtv8zVzWf"
      },
      "source": [
        "model = tf.keras.Sequential([\n",
        "    tf.keras.layers.Dense(5, input_dim = 2, activation = \"sigmoid\"),\n",
        "    tf.keras.layers.Dense(1, activation = \"sigmoid\")\n",
        "])\n"
      ],
      "execution_count": null,
      "outputs": []
    },
    {
      "cell_type": "code",
      "metadata": {
        "id": "1v39bD8GWeg4"
      },
      "source": [
        "optimiser = tf.keras.optimizers.SGD(learning_rate=0.1)\n",
        "model.compile(optimizer =optimiser, loss = \"MSE\")\n"
      ],
      "execution_count": null,
      "outputs": []
    },
    {
      "cell_type": "code",
      "metadata": {
        "id": "M6vjcppIWx_X"
      },
      "source": [
        "model.fit(x_train, y_train, epochs=100)\n"
      ],
      "execution_count": null,
      "outputs": []
    },
    {
      "cell_type": "code",
      "metadata": {
        "colab": {
          "base_uri": "https://localhost:8080/"
        },
        "id": "1x7uB8G0c1ZV",
        "outputId": "68fcedb1-3018-4d84-d2b8-5cca7f2ec832"
      },
      "source": [
        "print(\"MODEL Evaluation:\")\n",
        "model.evaluate(x_test, y_test, verbose=1)"
      ],
      "execution_count": null,
      "outputs": [
        {
          "output_type": "stream",
          "text": [
            "MODEL Evaluation:\n",
            "47/47 [==============================] - 0s 891us/step - loss: 5.2817e-04\n"
          ],
          "name": "stdout"
        },
        {
          "output_type": "execute_result",
          "data": {
            "text/plain": [
              "0.0005281739868223667"
            ]
          },
          "metadata": {
            "tags": []
          },
          "execution_count": 52
        }
      ]
    },
    {
      "cell_type": "code",
      "metadata": {
        "colab": {
          "base_uri": "https://localhost:8080/"
        },
        "id": "bqLD5BHbeFdv",
        "outputId": "164edc58-380e-4fac-81b9-c235f2ba3c0a"
      },
      "source": [
        "data = np.array([[0.1, 0.2], [0.2, 0.2]])\n",
        "predictions = model.predict(data)\n",
        "\n",
        "for d, p in zip(data, predictions):\n",
        "  print(\"{} + {} = {}\".format(d[0], d[1],p[0]))"
      ],
      "execution_count": null,
      "outputs": [
        {
          "output_type": "stream",
          "text": [
            "0.1 + 0.2 = 0.2973349094390869\n",
            "0.2 + 0.2 = 0.3977520167827606\n"
          ],
          "name": "stdout"
        }
      ]
    }
  ]
}