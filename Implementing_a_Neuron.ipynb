{
  "nbformat": 4,
  "nbformat_minor": 0,
  "metadata": {
    "colab": {
      "name": "Implementing a Neuron.ipynb",
      "provenance": [],
      "authorship_tag": "ABX9TyMD0nsy9z0LRw+NtVVPeL4Z",
      "include_colab_link": true
    },
    "kernelspec": {
      "name": "python3",
      "display_name": "Python 3"
    },
    "language_info": {
      "name": "python"
    }
  },
  "cells": [
    {
      "cell_type": "markdown",
      "metadata": {
        "id": "view-in-github",
        "colab_type": "text"
      },
      "source": [
        "<a href=\"https://colab.research.google.com/github/darshana-22/Music-Genre-Classification/blob/main/Implementing_a_Neuron.ipynb\" target=\"_parent\"><img src=\"https://colab.research.google.com/assets/colab-badge.svg\" alt=\"Open In Colab\"/></a>"
      ]
    },
    {
      "cell_type": "code",
      "metadata": {
        "id": "9dOtwQqVDvOC"
      },
      "source": [
        "import math"
      ],
      "execution_count": null,
      "outputs": []
    },
    {
      "cell_type": "code",
      "metadata": {
        "id": "5kgten3yDZxj"
      },
      "source": [
        "def sigmoid(x):\n",
        "  y = 1.0 / (1 + math.exp(-x))\n",
        "  return y"
      ],
      "execution_count": null,
      "outputs": []
    },
    {
      "cell_type": "code",
      "metadata": {
        "id": "_AHh3N97C22r"
      },
      "source": [
        "def activate (inputs, weights):\n",
        "  h = 0\n",
        "  for x, w in zip(inputs, weights):\n",
        "    h += x*w\n",
        "  return sigmoid(h)\n",
        "\n"
      ],
      "execution_count": null,
      "outputs": []
    },
    {
      "cell_type": "code",
      "metadata": {
        "colab": {
          "base_uri": "https://localhost:8080/"
        },
        "id": "YFjYOCeA_ucz",
        "outputId": "7d1be4c2-9f7e-4dcf-f66b-b021348fc32b"
      },
      "source": [
        "inputs = [0.5, 0.3, 0.2]\n",
        "weights = [0.4, 0.7, 0.3]\n",
        "output = activate(inputs, weights)\n",
        "print(output)"
      ],
      "execution_count": null,
      "outputs": [
        {
          "output_type": "stream",
          "text": [
            "0.6153837563911821\n"
          ],
          "name": "stdout"
        }
      ]
    },
    {
      "cell_type": "code",
      "metadata": {
        "id": "XeT2DsPRJ77G"
      },
      "source": [
        "#multilayer perceptron\n",
        "import numpy as np"
      ],
      "execution_count": null,
      "outputs": []
    },
    {
      "cell_type": "code",
      "metadata": {
        "id": "QFig5TaUJ_J1"
      },
      "source": [
        "class MLP:\n",
        "  def __init__(self, num_inputs=3, num_hidden=[3,5], num_outputs=2):\n",
        "    self.num_inputs= num_inputs\n",
        "    self.num_hidden = num_hidden\n",
        "    self.num_outputs = num_outputs\n",
        "\n",
        "    layers = [self.num_inputs] + self.num_hidden + [self.num_outputs]\n",
        "    #weights\n",
        "    self.weights = []\n",
        "    for i in range(len(layers)-1):\n",
        "      w = np.random.rand(layers[i], layers[i+1]) \n",
        "      self.weights.append(w)\n",
        "\n",
        "  def forward_propagate(self, inputs):\n",
        "    activations = inputs\n",
        "\n",
        "    for w in self.weights:\n",
        "      net_inputs = np.dot(activations, w)\n",
        "      activations = self._sigmoid(net_inputs)\n",
        "    return activations\n",
        "  def _sigmoid(self, x):\n",
        "    return 1 /(1+np.exp(-x))\n",
        "\n",
        "\n",
        "\n",
        "  \n",
        "\n"
      ],
      "execution_count": null,
      "outputs": []
    },
    {
      "cell_type": "code",
      "metadata": {
        "colab": {
          "base_uri": "https://localhost:8080/"
        },
        "id": "TrDUVmI-ylXx",
        "outputId": "a298a998-34ca-452b-c45a-0e69420b1385"
      },
      "source": [
        "mlp = MLP()\n",
        "inputs = np.random.rand(mlp.num_inputs)\n",
        "output = mlp.forward_propagate(inputs)\n",
        "print(\"The network input is: {}\".format(inputs))\n",
        "print(\"The netowrk output is: {}\".format(output))"
      ],
      "execution_count": null,
      "outputs": [
        {
          "output_type": "stream",
          "text": [
            "The network input is: [0.44403884 0.71692905 0.64821763]\n",
            "The netowrk output is: [0.7668865  0.85193528]\n"
          ],
          "name": "stdout"
        }
      ]
    },
    {
      "cell_type": "code",
      "metadata": {
        "id": "jqQjtwMhTRwk"
      },
      "source": [
        "\n"
      ],
      "execution_count": null,
      "outputs": []
    }
  ]
}